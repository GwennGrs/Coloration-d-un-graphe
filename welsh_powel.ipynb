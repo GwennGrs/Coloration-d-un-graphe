{
 "cells": [
  {
   "cell_type": "markdown",
   "id": "0203077e",
   "metadata": {},
   "source": [
    "# Algorithme Welsh Powell \n",
    "\n",
    "## 1. Complexité\n",
    "La complexité de l'algorithme de Welsh Powell dépend de ce que l'on utilise pour implémenter cette algorithme. Comme implémenté dans le document du projet, sa compléxité serait de O(n²).\n",
    "\n",
    "Cependant avec une structure optimisé nous pourions descendre à O(nlog(n)+m), avec n le nombre de noeuds et m le nombre d'arrêtes.\n",
    "\n",
    "### Explication \n",
    "Nous avons d'abord à trier les éléments par degrès, ce qui prendrait une complexité de O(nlog(n)). Puis nous devons parcourir tout les éléments de la pile, regarder touts les autres éléments de la pile pour savoir si il sont voisins et enfin dépiler. Ce qui nous donne une complexité de O(n²) mal optimisé, (n-1)+(n-2)+...+1 = O(n²). \n",
    "\n",
    "Cepdandant, nous pouvons implémenter une liste d'adjacence, simplement un liste des noeuds, qui pour chacun d'eux, possèdent une liste des voisins. Le tri sera alors toujours de la même compléxité, mais pour ce qui est du parcours des voisins, on ne passera seulement que par toutes les arrêtes donc m. Puisque l'on parle ici de graphe sans cycle, m < n, donc cela est plus efficace. \n",
    "\n",
    "## 2. Validité\n",
    "L'algorithme de Welsh Powell est très efficace pour se rapprocher du nombre de couleurs dans certains cas et pour d'autre de trouver directement le nombre chromatique d'un graphe. Il n'est donc pas totalement efficace.\n",
    "\n",
    "# Montrer un exemple\n",
    "\n",
    "## 3. Algorithme"
   ]
  },
  {
   "cell_type": "code",
   "execution_count": null,
   "id": "1c1dc700",
   "metadata": {},
   "outputs": [],
   "source": []
  }
 ],
 "metadata": {
  "language_info": {
   "name": "python"
  }
 },
 "nbformat": 4,
 "nbformat_minor": 5
}
